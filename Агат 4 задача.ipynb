{
 "cells": [
  {
   "cell_type": "markdown",
   "id": "e76772e6-2136-47fe-8c3f-28ba20eb7512",
   "metadata": {},
   "source": [
    "# Задача 4. 6 баллов. #\n",
    "\n",
    "Используя открытые источники и наборы данных решить задачу классификации намерений пользователя. В качестве входных данных поступают реплики пользователя (на русском языке), которые необходимо отнести к одному из классов. Код должен быть организован в соответствиями с требованиями архитектуры, используя ООП парадигму. Библиотека реализации на усмотрение соискателя. \n",
    "\n",
    "Дополнением будет реализация поиска «слотов» в рамках интента или реализация механизма их извлечения. "
   ]
  },
  {
   "cell_type": "markdown",
   "id": "ab346ec8-f0aa-49c8-a1f2-8e0482115d97",
   "metadata": {},
   "source": [
    "https://www.kaggle.com/datasets/maxim9012/goods-comments/settings"
   ]
  },
  {
   "cell_type": "code",
   "execution_count": 1,
   "id": "cfd088e7-2f2a-48d5-a8f2-3708f6b5755b",
   "metadata": {},
   "outputs": [
    {
     "name": "stderr",
     "output_type": "stream",
     "text": [
      "[nltk_data] Downloading package stopwords to\n",
      "[nltk_data]     C:\\Users\\maxim\\AppData\\Roaming\\nltk_data...\n",
      "[nltk_data]   Package stopwords is already up-to-date!\n"
     ]
    },
    {
     "data": {
      "text/plain": [
       "True"
      ]
     },
     "execution_count": 1,
     "metadata": {},
     "output_type": "execute_result"
    }
   ],
   "source": [
    "import nltk\n",
    "nltk.download('stopwords')"
   ]
  },
  {
   "cell_type": "code",
   "execution_count": 9,
   "id": "e1a7a5aa-291f-4de8-9d44-eb9bec3dc5dd",
   "metadata": {},
   "outputs": [],
   "source": [
    "from nltk.corpus import stopwords\n",
    "from pymystem3 import Mystem\n",
    "import pickle as p\n",
    "import pandas as pd\n",
    "import numpy as np\n",
    "import seaborn as sns\n",
    "from string import punctuation\n",
    "from sklearn.metrics import accuracy_score\n",
    "from sklearn.preprocessing import LabelEncoder\n",
    "from sklearn.ensemble import RandomForestClassifier\n",
    "from keras.preprocessing.text import Tokenizer as token\n",
    "from tensorflow.keras.preprocessing.sequence import pad_sequences\n",
    "from sklearn.model_selection import train_test_split\n",
    "import re\n",
    "import xgboost"
   ]
  },
  {
   "cell_type": "code",
   "execution_count": 14,
   "id": "9901d152-5f22-4964-a7ac-2c98a4e5a921",
   "metadata": {},
   "outputs": [],
   "source": [
    "class Tokenizer():\n",
    "    TOP_K = 20000\n",
    "\n",
    "    MAX_SEQUENCE_LENGTH = 33\n",
    "\n",
    "    def __init__(self, train_texts):\n",
    "        self.train_texts = train_texts\n",
    "        self.tokenizer = token(num_words=self.TOP_K)\n",
    "\n",
    "    def train_tokenize(self):\n",
    "        max_length = len(max(self.train_texts, key=len))\n",
    "        self.max_length = min(max_length, self.MAX_SEQUENCE_LENGTH)\n",
    "        self.tokenizer.fit_on_texts(self.train_texts)\n",
    "\n",
    "    def vectorize_input(self, tweets):\n",
    "        tweets = self.tokenizer.texts_to_sequences(tweets)\n",
    "        tweets = pad_sequences(tweets, maxlen=self.max_length, truncating='post', padding='post')\n",
    "        return tweets"
   ]
  },
  {
   "cell_type": "code",
   "execution_count": 5,
   "id": "16ca0fcb-d71f-466d-bd3a-de23b2917e5f",
   "metadata": {},
   "outputs": [],
   "source": [
    "df = pd.read_csv('Data (2).csv')"
   ]
  },
  {
   "cell_type": "code",
   "execution_count": 6,
   "id": "6c1482c9-31af-40bd-817f-4a88ff8bb018",
   "metadata": {},
   "outputs": [
    {
     "data": {
      "text/html": [
       "<div>\n",
       "<style scoped>\n",
       "    .dataframe tbody tr th:only-of-type {\n",
       "        vertical-align: middle;\n",
       "    }\n",
       "\n",
       "    .dataframe tbody tr th {\n",
       "        vertical-align: top;\n",
       "    }\n",
       "\n",
       "    .dataframe thead th {\n",
       "        text-align: right;\n",
       "    }\n",
       "</style>\n",
       "<table border=\"1\" class=\"dataframe\">\n",
       "  <thead>\n",
       "    <tr style=\"text-align: right;\">\n",
       "      <th></th>\n",
       "      <th>Unnamed: 0</th>\n",
       "      <th>ID отзыва</th>\n",
       "      <th>Дата</th>\n",
       "      <th>Номенклатура</th>\n",
       "      <th>Количество звезд</th>\n",
       "      <th>Бренд</th>\n",
       "      <th>Текст отзыва</th>\n",
       "      <th>Имя</th>\n",
       "      <th>Регион</th>\n",
       "      <th>Цвет</th>\n",
       "      <th>Размер</th>\n",
       "      <th>Полезность (количество минусов)</th>\n",
       "      <th>Полезность (количество плюсов)</th>\n",
       "      <th>Полезность</th>\n",
       "      <th>cleaned_tweets</th>\n",
       "    </tr>\n",
       "  </thead>\n",
       "  <tbody>\n",
       "    <tr>\n",
       "      <th>0</th>\n",
       "      <td>0</td>\n",
       "      <td>4</td>\n",
       "      <td>6/11/2021</td>\n",
       "      <td>Артикул 4</td>\n",
       "      <td>5</td>\n",
       "      <td>Бренд 4</td>\n",
       "      <td>Полный комплект, ниток достаточно, много остал...</td>\n",
       "      <td>Ирина</td>\n",
       "      <td>RU</td>\n",
       "      <td>NaN</td>\n",
       "      <td>0</td>\n",
       "      <td>0</td>\n",
       "      <td>0</td>\n",
       "      <td>0</td>\n",
       "      <td>полный комплект нитка достаточно оставаться вы...</td>\n",
       "    </tr>\n",
       "    <tr>\n",
       "      <th>1</th>\n",
       "      <td>1</td>\n",
       "      <td>7</td>\n",
       "      <td>6/11/2021</td>\n",
       "      <td>Артикул 7</td>\n",
       "      <td>5</td>\n",
       "      <td>Бренд 6</td>\n",
       "      <td>Очень понравился набор! Бисер качественный, ос...</td>\n",
       "      <td>Наталья</td>\n",
       "      <td>RU</td>\n",
       "      <td>белый</td>\n",
       "      <td>0</td>\n",
       "      <td>0</td>\n",
       "      <td>0</td>\n",
       "      <td>0</td>\n",
       "      <td>очень понравиться набор бисер качественный ост...</td>\n",
       "    </tr>\n",
       "    <tr>\n",
       "      <th>2</th>\n",
       "      <td>2</td>\n",
       "      <td>8</td>\n",
       "      <td>6/11/2021</td>\n",
       "      <td>Артикул 8</td>\n",
       "      <td>5</td>\n",
       "      <td>Бренд 6</td>\n",
       "      <td>Очень красиво получилось</td>\n",
       "      <td>Наталья</td>\n",
       "      <td>RU</td>\n",
       "      <td>синий</td>\n",
       "      <td>0</td>\n",
       "      <td>0</td>\n",
       "      <td>0</td>\n",
       "      <td>0</td>\n",
       "      <td>очень красиво получаться</td>\n",
       "    </tr>\n",
       "    <tr>\n",
       "      <th>3</th>\n",
       "      <td>3</td>\n",
       "      <td>21</td>\n",
       "      <td>5/11/2021</td>\n",
       "      <td>Артикул 21</td>\n",
       "      <td>5</td>\n",
       "      <td>Бренд 2</td>\n",
       "      <td>Набор полный, целый, восхитительный! Открываеш...</td>\n",
       "      <td>Маргарита</td>\n",
       "      <td>RU</td>\n",
       "      <td>белый</td>\n",
       "      <td>0</td>\n",
       "      <td>0</td>\n",
       "      <td>0</td>\n",
       "      <td>0</td>\n",
       "      <td>набор полный целый восхитительный открывать ко...</td>\n",
       "    </tr>\n",
       "    <tr>\n",
       "      <th>4</th>\n",
       "      <td>4</td>\n",
       "      <td>23</td>\n",
       "      <td>5/11/2021</td>\n",
       "      <td>Артикул 23</td>\n",
       "      <td>5</td>\n",
       "      <td>Бренд 14</td>\n",
       "      <td>Заказывала серый сероголубой, пришел  синий ва...</td>\n",
       "      <td>Ирина</td>\n",
       "      <td>RU</td>\n",
       "      <td>серо-голубой, голубой</td>\n",
       "      <td>0</td>\n",
       "      <td>0</td>\n",
       "      <td>0</td>\n",
       "      <td>0</td>\n",
       "      <td>заказывать серый сероголубой приходить синий в...</td>\n",
       "    </tr>\n",
       "    <tr>\n",
       "      <th>...</th>\n",
       "      <td>...</td>\n",
       "      <td>...</td>\n",
       "      <td>...</td>\n",
       "      <td>...</td>\n",
       "      <td>...</td>\n",
       "      <td>...</td>\n",
       "      <td>...</td>\n",
       "      <td>...</td>\n",
       "      <td>...</td>\n",
       "      <td>...</td>\n",
       "      <td>...</td>\n",
       "      <td>...</td>\n",
       "      <td>...</td>\n",
       "      <td>...</td>\n",
       "      <td>...</td>\n",
       "    </tr>\n",
       "    <tr>\n",
       "      <th>3920</th>\n",
       "      <td>3920</td>\n",
       "      <td>9993</td>\n",
       "      <td>5/8/2020</td>\n",
       "      <td>Артикул 3108</td>\n",
       "      <td>5</td>\n",
       "      <td>Бренд 10</td>\n",
       "      <td>Цвет не серо -голубой,а ближе к серо -зеленому .</td>\n",
       "      <td>Ирина</td>\n",
       "      <td>RU</td>\n",
       "      <td>серо-голубой</td>\n",
       "      <td>0</td>\n",
       "      <td>1</td>\n",
       "      <td>1</td>\n",
       "      <td>1</td>\n",
       "      <td>цвет серо голубой близко серо зеленый</td>\n",
       "    </tr>\n",
       "    <tr>\n",
       "      <th>3921</th>\n",
       "      <td>3921</td>\n",
       "      <td>9994</td>\n",
       "      <td>5/8/2020</td>\n",
       "      <td>Артикул 475</td>\n",
       "      <td>5</td>\n",
       "      <td>Бренд 53</td>\n",
       "      <td>Пришел быстро. Не вскрытый. Брала за 1192 рубл...</td>\n",
       "      <td>Наталья</td>\n",
       "      <td>RU</td>\n",
       "      <td>горчичный</td>\n",
       "      <td>0</td>\n",
       "      <td>1</td>\n",
       "      <td>1</td>\n",
       "      <td>1</td>\n",
       "      <td>приходить быстро вскрывать брать  рубль дешевы...</td>\n",
       "    </tr>\n",
       "    <tr>\n",
       "      <th>3922</th>\n",
       "      <td>3922</td>\n",
       "      <td>9995</td>\n",
       "      <td>5/8/2020</td>\n",
       "      <td>Артикул 3388</td>\n",
       "      <td>5</td>\n",
       "      <td>Бренд 10</td>\n",
       "      <td>Цвет немного отличается, больше с фиолетовым о...</td>\n",
       "      <td>Инна</td>\n",
       "      <td>RU</td>\n",
       "      <td>пурпурный</td>\n",
       "      <td>0</td>\n",
       "      <td>0</td>\n",
       "      <td>1</td>\n",
       "      <td>1</td>\n",
       "      <td>цвет немного отличаться фиолетовый оттенок плю...</td>\n",
       "    </tr>\n",
       "    <tr>\n",
       "      <th>3923</th>\n",
       "      <td>3923</td>\n",
       "      <td>9998</td>\n",
       "      <td>4/8/2020</td>\n",
       "      <td>Артикул 879</td>\n",
       "      <td>5</td>\n",
       "      <td>Бренд 8</td>\n",
       "      <td>Класс очень красиво</td>\n",
       "      <td>Елена</td>\n",
       "      <td>RU</td>\n",
       "      <td>белый</td>\n",
       "      <td>0</td>\n",
       "      <td>0</td>\n",
       "      <td>0</td>\n",
       "      <td>0</td>\n",
       "      <td>класс очень красиво</td>\n",
       "    </tr>\n",
       "    <tr>\n",
       "      <th>3924</th>\n",
       "      <td>3924</td>\n",
       "      <td>9999</td>\n",
       "      <td>4/8/2020</td>\n",
       "      <td>Артикул 879</td>\n",
       "      <td>5</td>\n",
       "      <td>Бренд 8</td>\n",
       "      <td>Просто супер, очень красивая вышивка, буду еще...</td>\n",
       "      <td>Елена</td>\n",
       "      <td>RU</td>\n",
       "      <td>белый</td>\n",
       "      <td>0</td>\n",
       "      <td>0</td>\n",
       "      <td>0</td>\n",
       "      <td>0</td>\n",
       "      <td>просто супер очень красивый вышивка заказывать</td>\n",
       "    </tr>\n",
       "  </tbody>\n",
       "</table>\n",
       "<p>3925 rows × 15 columns</p>\n",
       "</div>"
      ],
      "text/plain": [
       "      Unnamed: 0  ID отзыва       Дата  Номенклатура  Количество звезд  \\\n",
       "0              0          4  6/11/2021     Артикул 4                 5   \n",
       "1              1          7  6/11/2021     Артикул 7                 5   \n",
       "2              2          8  6/11/2021     Артикул 8                 5   \n",
       "3              3         21  5/11/2021    Артикул 21                 5   \n",
       "4              4         23  5/11/2021    Артикул 23                 5   \n",
       "...          ...        ...        ...           ...               ...   \n",
       "3920        3920       9993   5/8/2020  Артикул 3108                 5   \n",
       "3921        3921       9994   5/8/2020   Артикул 475                 5   \n",
       "3922        3922       9995   5/8/2020  Артикул 3388                 5   \n",
       "3923        3923       9998   4/8/2020   Артикул 879                 5   \n",
       "3924        3924       9999   4/8/2020   Артикул 879                 5   \n",
       "\n",
       "         Бренд                                       Текст отзыва        Имя  \\\n",
       "0      Бренд 4  Полный комплект, ниток достаточно, много остал...      Ирина   \n",
       "1      Бренд 6  Очень понравился набор! Бисер качественный, ос...    Наталья   \n",
       "2      Бренд 6                           Очень красиво получилось    Наталья   \n",
       "3      Бренд 2  Набор полный, целый, восхитительный! Открываеш...  Маргарита   \n",
       "4     Бренд 14  Заказывала серый сероголубой, пришел  синий ва...      Ирина   \n",
       "...        ...                                                ...        ...   \n",
       "3920  Бренд 10   Цвет не серо -голубой,а ближе к серо -зеленому .      Ирина   \n",
       "3921  Бренд 53  Пришел быстро. Не вскрытый. Брала за 1192 рубл...    Наталья   \n",
       "3922  Бренд 10  Цвет немного отличается, больше с фиолетовым о...       Инна   \n",
       "3923   Бренд 8                                Класс очень красиво      Елена   \n",
       "3924   Бренд 8  Просто супер, очень красивая вышивка, буду еще...      Елена   \n",
       "\n",
       "     Регион                   Цвет Размер  Полезность (количество минусов)  \\\n",
       "0        RU                    NaN      0                                0   \n",
       "1        RU                  белый      0                                0   \n",
       "2        RU                  синий      0                                0   \n",
       "3        RU                  белый      0                                0   \n",
       "4        RU  серо-голубой, голубой      0                                0   \n",
       "...     ...                    ...    ...                              ...   \n",
       "3920     RU           серо-голубой      0                                1   \n",
       "3921     RU              горчичный      0                                1   \n",
       "3922     RU              пурпурный      0                                0   \n",
       "3923     RU                  белый      0                                0   \n",
       "3924     RU                  белый      0                                0   \n",
       "\n",
       "      Полезность (количество плюсов)  Полезность  \\\n",
       "0                                  0           0   \n",
       "1                                  0           0   \n",
       "2                                  0           0   \n",
       "3                                  0           0   \n",
       "4                                  0           0   \n",
       "...                              ...         ...   \n",
       "3920                               1           1   \n",
       "3921                               1           1   \n",
       "3922                               1           1   \n",
       "3923                               0           0   \n",
       "3924                               0           0   \n",
       "\n",
       "                                         cleaned_tweets  \n",
       "0     полный комплект нитка достаточно оставаться вы...  \n",
       "1     очень понравиться набор бисер качественный ост...  \n",
       "2                              очень красиво получаться  \n",
       "3     набор полный целый восхитительный открывать ко...  \n",
       "4     заказывать серый сероголубой приходить синий в...  \n",
       "...                                                 ...  \n",
       "3920              цвет серо голубой близко серо зеленый  \n",
       "3921  приходить быстро вскрывать брать  рубль дешевы...  \n",
       "3922  цвет немного отличаться фиолетовый оттенок плю...  \n",
       "3923                                класс очень красиво  \n",
       "3924     просто супер очень красивый вышивка заказывать  \n",
       "\n",
       "[3925 rows x 15 columns]"
      ]
     },
     "execution_count": 6,
     "metadata": {},
     "output_type": "execute_result"
    }
   ],
   "source": [
    "df"
   ]
  },
  {
   "cell_type": "code",
   "execution_count": 7,
   "id": "e848f782-5515-4b69-bb7d-9da5af243a8d",
   "metadata": {},
   "outputs": [],
   "source": [
    "df\n",
    "y = df['Полезность']"
   ]
  },
  {
   "cell_type": "code",
   "execution_count": 10,
   "id": "9ead6606-b7cf-4673-9318-df8770f5ecbf",
   "metadata": {},
   "outputs": [
    {
     "name": "stderr",
     "output_type": "stream",
     "text": [
      "C:\\Users\\maxim\\AppData\\Local\\Temp\\ipykernel_13244\\56026706.py:3: FutureWarning: \n",
      "\n",
      "Passing `palette` without assigning `hue` is deprecated and will be removed in v0.14.0. Assign the `x` variable to `hue` and set `legend=False` for the same effect.\n",
      "\n",
      "  sns.countplot(x=y, palette=[green, red])\n",
      "C:\\Users\\maxim\\AppData\\Local\\Temp\\ipykernel_13244\\56026706.py:3: UserWarning: \n",
      "The palette list has fewer values (2) than needed (3) and will cycle, which may produce an uninterpretable plot.\n",
      "  sns.countplot(x=y, palette=[green, red])\n"
     ]
    },
    {
     "data": {
      "text/plain": [
       "<Axes: xlabel='Полезность', ylabel='count'>"
      ]
     },
     "execution_count": 10,
     "metadata": {},
     "output_type": "execute_result"
    },
    {
     "data": {
      "image/png": "[encoded data removed]",
      "text/plain": [
       "<Figure size 640x480 with 1 Axes>"
      ]
     },
     "metadata": {},
     "output_type": "display_data"
    }
   ],
   "source": [
    "green = '#52BE80'\n",
    "red = '#EC7063'\n",
    "sns.countplot(x=y, palette=[green, red])"
   ]
  },
  {
   "cell_type": "code",
   "execution_count": 11,
   "id": "ead09812-8a12-422c-9b34-a77e6cfd9169",
   "metadata": {},
   "outputs": [
    {
     "name": "stdout",
     "output_type": "stream",
     "text": [
      "Shape of train (2747, 15)\n",
      "Shape of Validation  (1178, 15)\n"
     ]
    }
   ],
   "source": [
    "X_train, X_test, y_train, y_test = train_test_split(df, y, test_size=0.3, random_state=42)\n",
    "print('Shape of train',X_train.shape)\n",
    "print(\"Shape of Validation \",X_test.shape)"
   ]
  },
  {
   "cell_type": "code",
   "execution_count": 12,
   "id": "369c4b19-d9b0-4f48-a0bf-b0df37e1f1a8",
   "metadata": {},
   "outputs": [],
   "source": [
    "le = LabelEncoder()\n",
    "y_train = le.fit_transform(y_train)\n",
    "y_test = le.fit_transform(y_test)"
   ]
  },
  {
   "cell_type": "code",
   "execution_count": 15,
   "id": "f3647537-5726-42c4-9542-8b61c0c3b9d0",
   "metadata": {},
   "outputs": [],
   "source": [
    "tokenizer = Tokenizer(train_texts=X_train['cleaned_tweets'])\n",
    "tokenizer.train_tokenize()\n",
    "tokenized_X_train = tokenizer.vectorize_input(X_train['cleaned_tweets'])\n",
    "tokenized_X_test = tokenizer.vectorize_input(X_test['cleaned_tweets'])"
   ]
  },
  {
   "cell_type": "code",
   "execution_count": 16,
   "id": "23e5732e-abe6-4376-b703-3494946421ab",
   "metadata": {},
   "outputs": [
    {
     "data": {
      "text/plain": [
       "array([[ 80,  89, 903, ...,   0,   0,   0],\n",
       "       [785,   1,   6, ...,   0,   0,   0],\n",
       "       [  1,   6,   2, ...,   0,   0,   0],\n",
       "       ...,\n",
       "       [ 17,  63,   5, ...,   0,   0,   0],\n",
       "       [ 32,  32,  32, ...,   0,   0,   0],\n",
       "       [100,   4,   0, ...,   0,   0,   0]])"
      ]
     },
     "execution_count": 16,
     "metadata": {},
     "output_type": "execute_result"
    }
   ],
   "source": [
    "tokenized_X_train"
   ]
  },
  {
   "cell_type": "code",
   "execution_count": 17,
   "id": "66a401ae-987b-4f53-a79f-d1982fbbb4bb",
   "metadata": {},
   "outputs": [],
   "source": [
    "rfc = RandomForestClassifier(criterion='entropy', n_estimators=700)"
   ]
  },
  {
   "cell_type": "code",
   "execution_count": 18,
   "id": "440d13b3-e554-42dd-a43f-e79216b5bb17",
   "metadata": {},
   "outputs": [
    {
     "data": {
      "text/html": [
       "<style>#sk-container-id-1 {color: black;background-color: white;}#sk-container-id-1 pre{padding: 0;}#sk-container-id-1 div.sk-toggleable {background-color: white;}#sk-container-id-1 label.sk-toggleable__label {cursor: pointer;display: block;width: 100%;margin-bottom: 0;padding: 0.3em;box-sizing: border-box;text-align: center;}#sk-container-id-1 label.sk-toggleable__label-arrow:before {content: \"▸\";float: left;margin-right: 0.25em;color: #696969;}#sk-container-id-1 label.sk-toggleable__label-arrow:hover:before {color: black;}#sk-container-id-1 div.sk-estimator:hover label.sk-toggleable__label-arrow:before {color: black;}#sk-container-id-1 div.sk-toggleable__content {max-height: 0;max-width: 0;overflow: hidden;text-align: left;background-color: #f0f8ff;}#sk-container-id-1 div.sk-toggleable__content pre {margin: 0.2em;color: black;border-radius: 0.25em;background-color: #f0f8ff;}#sk-container-id-1 input.sk-toggleable__control:checked~div.sk-toggleable__content {max-height: 200px;max-width: 100%;overflow: auto;}#sk-container-id-1 input.sk-toggleable__control:checked~label.sk-toggleable__label-arrow:before {content: \"▾\";}#sk-container-id-1 div.sk-estimator input.sk-toggleable__control:checked~label.sk-toggleable__label {background-color: #d4ebff;}#sk-container-id-1 div.sk-label input.sk-toggleable__control:checked~label.sk-toggleable__label {background-color: #d4ebff;}#sk-container-id-1 input.sk-hidden--visually {border: 0;clip: rect(1px 1px 1px 1px);clip: rect(1px, 1px, 1px, 1px);height: 1px;margin: -1px;overflow: hidden;padding: 0;position: absolute;width: 1px;}#sk-container-id-1 div.sk-estimator {font-family: monospace;background-color: #f0f8ff;border: 1px dotted black;border-radius: 0.25em;box-sizing: border-box;margin-bottom: 0.5em;}#sk-container-id-1 div.sk-estimator:hover {background-color: #d4ebff;}#sk-container-id-1 div.sk-parallel-item::after {content: \"\";width: 100%;border-bottom: 1px solid gray;flex-grow: 1;}#sk-container-id-1 div.sk-label:hover label.sk-toggleable__label {background-color: #d4ebff;}#sk-container-id-1 div.sk-serial::before {content: \"\";position: absolute;border-left: 1px solid gray;box-sizing: border-box;top: 0;bottom: 0;left: 50%;z-index: 0;}#sk-container-id-1 div.sk-serial {display: flex;flex-direction: column;align-items: center;background-color: white;padding-right: 0.2em;padding-left: 0.2em;position: relative;}#sk-container-id-1 div.sk-item {position: relative;z-index: 1;}#sk-container-id-1 div.sk-parallel {display: flex;align-items: stretch;justify-content: center;background-color: white;position: relative;}#sk-container-id-1 div.sk-item::before, #sk-container-id-1 div.sk-parallel-item::before {content: \"\";position: absolute;border-left: 1px solid gray;box-sizing: border-box;top: 0;bottom: 0;left: 50%;z-index: -1;}#sk-container-id-1 div.sk-parallel-item {display: flex;flex-direction: column;z-index: 1;position: relative;background-color: white;}#sk-container-id-1 div.sk-parallel-item:first-child::after {align-self: flex-end;width: 50%;}#sk-container-id-1 div.sk-parallel-item:last-child::after {align-self: flex-start;width: 50%;}#sk-container-id-1 div.sk-parallel-item:only-child::after {width: 0;}#sk-container-id-1 div.sk-dashed-wrapped {border: 1px dashed gray;margin: 0 0.4em 0.5em 0.4em;box-sizing: border-box;padding-bottom: 0.4em;background-color: white;}#sk-container-id-1 div.sk-label label {font-family: monospace;font-weight: bold;display: inline-block;line-height: 1.2em;}#sk-container-id-1 div.sk-label-container {text-align: center;}#sk-container-id-1 div.sk-container {/* jupyter's `normalize.less` sets `[hidden] { display: none; }` but bootstrap.min.css set `[hidden] { display: none !important; }` so we also need the `!important` here to be able to override the default hidden behavior on the sphinx rendered scikit-learn.org. See: https://github.com/scikit-learn/scikit-learn/issues/21755 */display: inline-block !important;position: relative;}#sk-container-id-1 div.sk-text-repr-fallback {display: none;}</style><div id=\"sk-container-id-1\" class=\"sk-top-container\"><div class=\"sk-text-repr-fallback\"><pre>RandomForestClassifier(criterion=&#x27;entropy&#x27;, n_estimators=700)</pre><b>In a Jupyter environment, please rerun this cell to show the HTML representation or trust the notebook. <br />On GitHub, the HTML representation is unable to render, please try loading this page with nbviewer.org.</b></div><div class=\"sk-container\" hidden><div class=\"sk-item\"><div class=\"sk-estimator sk-toggleable\"><input class=\"sk-toggleable__control sk-hidden--visually\" id=\"sk-estimator-id-1\" type=\"checkbox\" checked><label for=\"sk-estimator-id-1\" class=\"sk-toggleable__label sk-toggleable__label-arrow\">RandomForestClassifier</label><div class=\"sk-toggleable__content\"><pre>RandomForestClassifier(criterion=&#x27;entropy&#x27;, n_estimators=700)</pre></div></div></div></div></div>"
      ],
      "text/plain": [
       "RandomForestClassifier(criterion='entropy', n_estimators=700)"
      ]
     },
     "execution_count": 18,
     "metadata": {},
     "output_type": "execute_result"
    }
   ],
   "source": [
    "rfc.fit(tokenized_X_train, y_train)"
   ]
  },
  {
   "cell_type": "code",
   "execution_count": 19,
   "id": "92fdf819-c2cd-4ffa-b65e-0a76aa32f6f6",
   "metadata": {},
   "outputs": [],
   "source": [
    "y_predrfc = rfc.predict(tokenized_X_test)"
   ]
  },
  {
   "cell_type": "code",
   "execution_count": 20,
   "id": "3f44fdb9-31ba-44ad-be2c-7d87420f2c5e",
   "metadata": {},
   "outputs": [
    {
     "name": "stdout",
     "output_type": "stream",
     "text": [
      "Model accuracy score : 0.5603\n"
     ]
    }
   ],
   "source": [
    "print('Model accuracy score : {0:0.4f}'. format(accuracy_score(y_test, y_predrfc)))"
   ]
  },
  {
   "cell_type": "code",
   "execution_count": 21,
   "id": "cf30c13b-26eb-4d76-b278-929117037419",
   "metadata": {},
   "outputs": [],
   "source": [
    "tokenizerfilename = 'RFCencoder.pickle'\n",
    "filemodelname = 'RFCmodel.pickle'\n",
    "\n",
    "with open(\n",
    "    tokenizerfilename, 'wb') as handle:\n",
    "    p.dump(tokenizer, handle, protocol=p.HIGHEST_PROTOCOL)\n",
    "\n",
    "with open(filemodelname, 'wb') as handle:\n",
    "    p.dump(rfc, handle, protocol=p.HIGHEST_PROTOCOL)"
   ]
  },
  {
   "cell_type": "code",
   "execution_count": null,
   "id": "2dfe561b-b045-4176-bc44-f43388c661c7",
   "metadata": {},
   "outputs": [],
   "source": []
  }
 ],
 "metadata": {
  "kernelspec": {
   "display_name": "Python 3 (ipykernel)",
   "language": "python",
   "name": "python3"
  },
  "language_info": {
   "codemirror_mode": {
    "name": "ipython",
    "version": 3
   },
   "file_extension": ".py",
   "mimetype": "text/x-python",
   "name": "python",
   "nbconvert_exporter": "python",
   "pygments_lexer": "ipython3",
   "version": "3.10.14"
  }
 },
 "nbformat": 4,
 "nbformat_minor": 5
}
