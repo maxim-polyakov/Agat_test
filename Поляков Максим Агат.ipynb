{
 "cells": [
  {
   "cell_type": "markdown",
   "id": "bd7a3a97-4f80-41c6-8a1d-764adf221fa8",
   "metadata": {},
   "source": [
    "# Задача 1. 4 балла. #\r\n",
    "\r\n",
    "Необходимо подготовить (предобработать) запись с микрофона плохого качества для дальнешей передачи в модель распознавания речи. Обработка должна вести к повышению качества распознавания (большее соответствие произнесенным словам). Необходимо подготовить решение осуществляющее предобработку аудиозаписей и их дальнейшее распознавание. \r",
    "ть слов"
   ]
  },
  {
   "cell_type": "markdown",
   "id": "4b81771e-9491-4a28-ac3a-208bf5988c6e",
   "metadata": {},
   "source": [
    "## Входные данные: ##\n",
    "Аудиозаписи: download_14.mp4, download_16.mp4\n"
   ]
  },
  {
   "cell_type": "markdown",
   "id": "aa05d3e9-79da-44df-b17b-7131d3cbb6a8",
   "metadata": {},
   "source": [
    "## Выходные данные: ##  \n",
    "Последовательность слов"
   ]
  },
  {
   "cell_type": "markdown",
   "id": "0a12fbb8-b225-4dd8-87d5-79a36e5a7276",
   "metadata": {},
   "source": [
    "Конвертировал download_14.mp4, download_16.mp4 в download_14.wav, download_16.wav соответственно\n"
   ]
  },
  {
   "cell_type": "code",
   "execution_count": 1,
   "id": "87247047-4f80-4136-9e4a-d34a395cde32",
   "metadata": {},
   "outputs": [],
   "source": [
    "import wave\n",
    "import sys\n",
    "import json\n",
    "from vosk import Model, KaldiRecognizer, SetLogLevel"
   ]
  },
  {
   "cell_type": "code",
   "execution_count": 2,
   "id": "e4e01737-a6ef-447c-ab69-d80bc1205bd9",
   "metadata": {},
   "outputs": [],
   "source": [
    "wf1 = wave.open(\"download_16.wav\", \"rb\")"
   ]
  },
  {
   "cell_type": "code",
   "execution_count": 3,
   "id": "3c548716-334b-4957-9f38-04be1e182e01",
   "metadata": {},
   "outputs": [],
   "source": [
    "# You can also init model by name or with a folder path\n",
    "model = Model(model_name=\"vosk-model-ru-0.42\")\n",
    "# model = Model(\"models/en\")\n",
    "\n",
    "rec = KaldiRecognizer(model, wf1.getframerate())\n",
    "rec.SetWords(True)\n",
    "rec.SetPartialWords(True)"
   ]
  },
  {
   "cell_type": "code",
   "execution_count": 4,
   "id": "3af8b545-e8c2-43a6-a292-a6ff32269e56",
   "metadata": {},
   "outputs": [],
   "source": [
    "while True:\n",
    "    data = wf1.readframes(4000)\n",
    "    if len(data) == 0:\n",
    "        break\n",
    "    if rec.AcceptWaveform(data):\n",
    "        pass\n",
    "    else:\n",
    "        pass"
   ]
  },
  {
   "cell_type": "code",
   "execution_count": 5,
   "id": "68ff6eeb-907b-428d-a574-f4454c231896",
   "metadata": {},
   "outputs": [],
   "source": [
    "output = json.loads(rec.FinalResult())"
   ]
  },
  {
   "cell_type": "code",
   "execution_count": 6,
   "id": "5f318037-62ea-467c-91ec-ded81fc195f1",
   "metadata": {},
   "outputs": [],
   "source": [
    "out = output[\"text\"]"
   ]
  },
  {
   "cell_type": "code",
   "execution_count": 7,
   "id": "0a78c9a8-0ce4-42c7-b061-052967ee34ac",
   "metadata": {},
   "outputs": [
    {
     "data": {
      "text/plain": [
       "'сами разговаривали бегали решили не дальше первого июля и подорожать а тогда выпить чист по данным бюро и говорит'"
      ]
     },
     "execution_count": 7,
     "metadata": {},
     "output_type": "execute_result"
    }
   ],
   "source": [
    "out"
   ]
  },
  {
   "cell_type": "code",
   "execution_count": 8,
   "id": "fd940771-4db1-4e09-ab45-0fcb48e64c6c",
   "metadata": {},
   "outputs": [],
   "source": [
    "wf = wave.open(\"download_14.wav\", \"rb\")"
   ]
  },
  {
   "cell_type": "code",
   "execution_count": 9,
   "id": "18468027-e271-4574-b5c8-43efa4a322f0",
   "metadata": {},
   "outputs": [],
   "source": [
    "rec1 = KaldiRecognizer(model, wf.getframerate())\n",
    "rec1.SetWords(True)\n",
    "rec1.SetPartialWords(True)"
   ]
  },
  {
   "cell_type": "code",
   "execution_count": 10,
   "id": "ed543f7f-cb8c-4be1-91eb-9124bf6161d8",
   "metadata": {},
   "outputs": [
    {
     "ename": "KeyboardInterrupt",
     "evalue": "",
     "output_type": "error",
     "traceback": [
      "\u001b[1;31m---------------------------------------------------------------------------\u001b[0m",
      "\u001b[1;31mKeyboardInterrupt\u001b[0m                         Traceback (most recent call last)",
      "Cell \u001b[1;32mIn[10], line 5\u001b[0m\n\u001b[0;32m      3\u001b[0m \u001b[38;5;28;01mif\u001b[39;00m \u001b[38;5;28mlen\u001b[39m(data) \u001b[38;5;241m==\u001b[39m \u001b[38;5;241m0\u001b[39m:\n\u001b[0;32m      4\u001b[0m     \u001b[38;5;28;01mbreak\u001b[39;00m\n\u001b[1;32m----> 5\u001b[0m \u001b[38;5;28;01mif\u001b[39;00m rec\u001b[38;5;241m.\u001b[39mAcceptWaveform(data):\n\u001b[0;32m      6\u001b[0m     \u001b[38;5;28;01mpass\u001b[39;00m\n\u001b[0;32m      7\u001b[0m \u001b[38;5;28;01melse\u001b[39;00m:\n",
      "File \u001b[1;32m~\\anaconda3\\Lib\\site-packages\\vosk\\__init__.py:182\u001b[0m, in \u001b[0;36mKaldiRecognizer.AcceptWaveform\u001b[1;34m(self, data)\u001b[0m\n\u001b[0;32m    181\u001b[0m \u001b[38;5;28;01mdef\u001b[39;00m \u001b[38;5;21mAcceptWaveform\u001b[39m(\u001b[38;5;28mself\u001b[39m, data):\n\u001b[1;32m--> 182\u001b[0m     res \u001b[38;5;241m=\u001b[39m _c\u001b[38;5;241m.\u001b[39mvosk_recognizer_accept_waveform(\u001b[38;5;28mself\u001b[39m\u001b[38;5;241m.\u001b[39m_handle, data, \u001b[38;5;28mlen\u001b[39m(data))\n\u001b[0;32m    183\u001b[0m     \u001b[38;5;28;01mif\u001b[39;00m res \u001b[38;5;241m<\u001b[39m \u001b[38;5;241m0\u001b[39m:\n\u001b[0;32m    184\u001b[0m         \u001b[38;5;28;01mraise\u001b[39;00m \u001b[38;5;167;01mException\u001b[39;00m(\u001b[38;5;124m\"\u001b[39m\u001b[38;5;124mFailed to process waveform\u001b[39m\u001b[38;5;124m\"\u001b[39m)\n",
      "\u001b[1;31mKeyboardInterrupt\u001b[0m: "
     ]
    }
   ],
   "source": [
    "while True:\n",
    "    data = wf.readframes(4000)\n",
    "    if len(data) == 0:\n",
    "        break\n",
    "    if rec.AcceptWaveform(data):\n",
    "        pass\n",
    "    else:\n",
    "        pass"
   ]
  },
  {
   "cell_type": "code",
   "execution_count": null,
   "id": "d1447a94-425c-48e6-a83a-bfe040273ab1",
   "metadata": {},
   "outputs": [],
   "source": [
    "output1 = json.loads(rec1.FinalResult())"
   ]
  },
  {
   "cell_type": "code",
   "execution_count": null,
   "id": "719af78f-e6f0-4c03-b6e8-756a8431c583",
   "metadata": {},
   "outputs": [],
   "source": [
    "out1 = output1[\"text\"]"
   ]
  },
  {
   "cell_type": "code",
   "execution_count": null,
   "id": "558e6ddf-6e5c-4e27-accc-8a98bba392f8",
   "metadata": {},
   "outputs": [],
   "source": [
    "out1"
   ]
  },
  {
   "cell_type": "code",
   "execution_count": null,
   "id": "8625559f-f726-4c94-8117-e341cd57b61d",
   "metadata": {},
   "outputs": [],
   "source": []
  }
 ],
 "metadata": {
  "kernelspec": {
   "display_name": "Python 3 (ipykernel)",
   "language": "python",
   "name": "python3"
  },
  "language_info": {
   "codemirror_mode": {
    "name": "ipython",
    "version": 3
   },
   "file_extension": ".py",
   "mimetype": "text/x-python",
   "name": "python",
   "nbconvert_exporter": "python",
   "pygments_lexer": "ipython3",
   "version": "3.11.7"
  }
 },
 "nbformat": 4,
 "nbformat_minor": 5
}
