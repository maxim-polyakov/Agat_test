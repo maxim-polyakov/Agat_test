{
 "cells": [
  {
   "cell_type": "code",
   "execution_count": 7,
   "id": "fdeb0f7a-d19e-4779-9299-1c321278f275",
   "metadata": {},
   "outputs": [],
   "source": [
    "from pedalboard.io import AudioFile\n",
    "from pedalboard import *\n",
    "import noisereduce as nr\n",
    "\n",
    "sr=44100\n",
    "with AudioFile('download_14.wav').resampled_to(sr) as f:\n",
    "    audio = f.read(f.frames)\n",
    "\n",
    "reduced_noise = nr.reduce_noise(y=audio, sr=sr, stationary=True, prop_decrease=0.75)\n",
    "\n",
    "board = Pedalboard([\n",
    "    NoiseGate(threshold_db=-30, ratio=1.5, release_ms=250),\n",
    "    Compressor(threshold_db=-16, ratio=2.5),\n",
    "    LowShelfFilter(cutoff_frequency_hz=400, gain_db=10, q=1),\n",
    "    Gain(gain_db=10)\n",
    "])\n",
    "\n",
    "effected = board(reduced_noise, sr)\n",
    "\n",
    "\n",
    "with AudioFile('download_14_1.wav', 'w', sr, effected.shape[0]) as f:\n",
    "  f.write(effected)"
   ]
  },
  {
   "cell_type": "code",
   "execution_count": null,
   "id": "2d0f7424-1d30-4a0f-a294-c76af1f01544",
   "metadata": {},
   "outputs": [],
   "source": []
  }
 ],
 "metadata": {
  "kernelspec": {
   "display_name": "Python 3 (ipykernel)",
   "language": "python",
   "name": "python3"
  },
  "language_info": {
   "codemirror_mode": {
    "name": "ipython",
    "version": 3
   },
   "file_extension": ".py",
   "mimetype": "text/x-python",
   "name": "python",
   "nbconvert_exporter": "python",
   "pygments_lexer": "ipython3",
   "version": "3.10.14"
  }
 },
 "nbformat": 4,
 "nbformat_minor": 5
}
